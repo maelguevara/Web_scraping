{
 "cells": [
  {
   "cell_type": "code",
   "execution_count": null,
   "metadata": {},
   "outputs": [],
   "source": [
    "#!pip install mysql-connector-python\n",
    "\n",
    "import os\n",
    "import pandas as pd\n",
    "import mysql.connector\n",
    "from  mysql.connector import errorcode\n",
    "import ast"
   ]
  },
  {
   "cell_type": "code",
   "execution_count": null,
   "metadata": {},
   "outputs": [],
   "source": [
    "def limpieza_puntuaciones():\n",
    "    \"\"\"\n",
    "    Esta función transforma un csv en una lista de tuplas de puntuaciones por pelicula.\n",
    "    \n",
    "    Args:\n",
    "    - No recibe parametros.\n",
    "\n",
    "    Returns:\n",
    "    - devuelve una lista de tuplas (id_pelicula, nombre_pelicula, puntos_imdb, puntos_rotten).\n",
    "    \"\"\"\n",
    "\n",
    "    lista_tuplas_puntuaciones = []\n",
    "\n",
    "    for i in range(1990,2024):\n",
    "        \n",
    "        try:\n",
    "            df_puntos = pd.read_csv(f'datos/puntuaciones/puntuaciones_{i}_1000.csv')\n",
    "            #df_puntuaciones = df_puntos.dropna(how='any', axis=0) \n",
    "\n",
    "\n",
    "            for fila in df_puntos.values:\n",
    "                lista_tuplas_puntuaciones.append(tuple(fila))\n",
    "        except:\n",
    "            print(f\"puntuaciones_{i}_1000.csv - no existe\")            \n",
    "\n",
    "    lista_final_puntuaciones = list(set(lista_tuplas_puntuaciones)) \n",
    "\n",
    "    return lista_final_puntuaciones\n"
   ]
  },
  {
   "cell_type": "code",
   "execution_count": null,
   "metadata": {},
   "outputs": [],
   "source": [
    "def insertar_puntuaciones(lista):\n",
    "    \"\"\"\n",
    "    Esta función toma una lista de tuplas y la inserta en una tabla de la bbdd\n",
    "    \n",
    "    Args:\n",
    "    - lista: listade tuplas donde cada tupla incluye los datos de las puntuaciones de una película (d_pelicula, nombre_pelicula, puntos_imdb, puntos_rotten)\n",
    "\n",
    "    Returns:\n",
    "    - devuelve el número de registros insertados\n",
    "\n",
    "    \"\"\"\n",
    "    contrasena = os.environ.get('contraseña')\n",
    "\n",
    "    #Tabla puntuaciones\n",
    "    cnx = mysql.connector.connect(user=\"root\",\n",
    "                                password=contrasena,\n",
    "                                host=\"localhost\", database = \"bho_peliculas_3\")\n",
    "\n",
    "    mycursor = cnx.cursor()\n",
    "\n",
    "    sql_puntuaciones = \"INSERT INTO puntuaciones (id_pelicula, nombre_pelicula, puntos_imdb, puntos_rotten) VALUES (%s, %s, %s, %s)\"\n",
    "\n",
    "    try:\n",
    "        mycursor.executemany(sql_puntuaciones, lista)\n",
    "        cnx.commit()\n",
    "        print(mycursor.rowcount, \"registros insertados\")\n",
    "    except mysql.connector.Error as err:\n",
    "                print(err)\n",
    "                print(\"Error Code:\", err.errno)\n",
    "                print(\"SQLSTATE\", err.sqlstate)\n",
    "                print(\"Message\", err.msg)\n",
    "                print(\"peliculas - error inserción\")\n",
    "\n",
    "    cnx.close()    \n",
    "\n",
    "    return  mycursor.rowcount             "
   ]
  },
  {
   "cell_type": "code",
   "execution_count": null,
   "metadata": {},
   "outputs": [],
   "source": [
    "#llamar a las funciones para limpiar los datos e insertarlos en la bbdd\n",
    "insertar_puntuaciones(limpieza_puntuaciones())"
   ]
  }
 ],
 "metadata": {
  "kernelspec": {
   "display_name": "Python 3",
   "language": "python",
   "name": "python3"
  },
  "language_info": {
   "codemirror_mode": {
    "name": "ipython",
    "version": 3
   },
   "file_extension": ".py",
   "mimetype": "text/x-python",
   "name": "python",
   "nbconvert_exporter": "python",
   "pygments_lexer": "ipython3",
   "version": "3.9.13"
  }
 },
 "nbformat": 4,
 "nbformat_minor": 2
}
