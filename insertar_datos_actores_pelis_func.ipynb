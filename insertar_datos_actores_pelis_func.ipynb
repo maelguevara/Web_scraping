{
 "cells": [
  {
   "cell_type": "code",
   "execution_count": null,
   "metadata": {},
   "outputs": [],
   "source": [
    "#!pip install mysql-connector-python\n",
    "\n",
    "import os\n",
    "import pandas as pd\n",
    "import mysql.connector\n",
    "from  mysql.connector import errorcode\n",
    "import ast\n"
   ]
  },
  {
   "cell_type": "code",
   "execution_count": null,
   "metadata": {},
   "outputs": [],
   "source": [
    "def limpieza_datos_actores_pelis():\n",
    "    \"\"\"\n",
    "    Esta función transforma un csv en una lista de tuplas de actores por pelicula.\n",
    "    \n",
    "    Args:\n",
    "    - No recibe parametros.\n",
    "\n",
    "    Returns:\n",
    "    - devuelve una lista de tuplas (id pelicula, nombre actor).\n",
    "    \"\"\"\n",
    "    lista_tuplas_actores =[]\n",
    "    lista_final_actores = []\n",
    "\n",
    "    for i in range(1990,2024):\n",
    "        try:\n",
    "            df_pelis = pd.read_csv(f'datos/datos_peliculas/lista_peliculas_{i}_1000.csv')\n",
    "        except:\n",
    "            print(f\"lista_peliculas_{i}_1000.csv - no existe\")            \n",
    "\n",
    "        orden_actores = [\"0\",\"7\"]\n",
    "\n",
    "        df_actores_pelis = df_pelis.reindex(columns = orden_actores)\n",
    "\n",
    "        # tupla_actores\n",
    "        for fila in df_actores_pelis.values:\n",
    "            try:            \n",
    "                linea = ast.literal_eval(fila[1])\n",
    "            except:\n",
    "                linea = 'No data'\n",
    "            for elemento in linea[1:]:\n",
    "                lista_tuplas_actores.append((fila[0], elemento))\n",
    "\n",
    "    df_actores = pd.DataFrame(set(lista_tuplas_actores), columns =['id', 'nombre'])\n",
    "\n",
    "    #quitar nan y null del dataframe\n",
    "    df_final_actores = df_actores.dropna(how='any', axis=0) \n",
    "\n",
    "    for fila in df_final_actores.values:\n",
    "        lista_final_actores.append(tuple(fila))     \n",
    "            \n",
    "    return lista_final_actores           "
   ]
  },
  {
   "cell_type": "code",
   "execution_count": null,
   "metadata": {},
   "outputs": [],
   "source": [
    "def insertar_actores_pelis(lista):\n",
    "    \"\"\"\n",
    "    Esta función toma una lista de tuplas y la inserta en una tabla de la bbdd\n",
    "    \n",
    "    Args:\n",
    "    - lista: listade tuplas donde cada tupla incluye los datos de un actor: id pelicula, nombre y apellido del actor\n",
    "\n",
    "    Returns:\n",
    "    - esta funcion devuelve el número de datos insertados\n",
    "\n",
    "    \"\"\"\n",
    "    contrasena = os.environ.get('contraseña')\n",
    "\n",
    "    # Ejecutar solo cuando la tabla de detalles_interpretes esté con los datos\n",
    "    #conexion     \n",
    "    cnx = mysql.connector.connect(user=\"root\",\n",
    "                            password=contrasena,\n",
    "                            host=\"localhost\", database = \"bho_peliculas_3\")\n",
    "\n",
    "    mycursor = cnx.cursor()\n",
    "\n",
    "    #tabla interpretes por pelicula\n",
    "    sql_interpretes_peliculas = \"INSERT INTO interpretes_peliculas (id_pelicula, nombre_interprete) VALUES (%s, %s)\"\n",
    "\n",
    "    try:\n",
    "        mycursor.executemany(sql_interpretes_peliculas, lista)\n",
    "        cnx.commit()\n",
    "        print(mycursor.rowcount, \"registros insertados\")\n",
    "    except mysql.connector.Error as err:\n",
    "                print(err)\n",
    "                print(\"Error Code:\", err.errno)\n",
    "                print(\"SQLSTATE\", err.sqlstate)\n",
    "                print(\"Message\", err.msg)\n",
    "                print(\"peliculas - error inserción\")  \n",
    "\n",
    "    cnx.close()    \n",
    "\n",
    "    return mycursor.rowcount"
   ]
  },
  {
   "cell_type": "code",
   "execution_count": null,
   "metadata": {},
   "outputs": [],
   "source": [
    "#llamar a las funciones para limpiar los datos e insertarlos en la bbdd\n",
    "insertar_actores_pelis(limpieza_datos_actores_pelis())    "
   ]
  }
 ],
 "metadata": {
  "kernelspec": {
   "display_name": "Python 3",
   "language": "python",
   "name": "python3"
  },
  "language_info": {
   "codemirror_mode": {
    "name": "ipython",
    "version": 3
   },
   "file_extension": ".py",
   "mimetype": "text/x-python",
   "name": "python",
   "nbconvert_exporter": "python",
   "pygments_lexer": "ipython3",
   "version": "3.9.13"
  }
 },
 "nbformat": 4,
 "nbformat_minor": 2
}
