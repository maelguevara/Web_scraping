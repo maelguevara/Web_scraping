{
 "cells": [
  {
   "cell_type": "code",
   "execution_count": null,
   "metadata": {},
   "outputs": [],
   "source": [
    "import requests\n",
    "import pandas as pd\n",
    "import os"
   ]
  },
  {
   "cell_type": "code",
   "execution_count": null,
   "metadata": {},
   "outputs": [],
   "source": [
    "# Version OK\n",
    "def sacar_pelis(url, año, genero, tipo, diccionario):\n",
    "    \"\"\"\n",
    "    Esta función llama a una url, recoge los datos de peliculas de la api movies-database y devuelve un diccionario con los datos.\n",
    "    \n",
    "    Args:\n",
    "    - url: url de la api\n",
    "    - año: año para buscar las peliculas de ese año en la api\n",
    "    - genero de las películas a buscar en la api\n",
    "    - tipo de películas a buscar en la api (movie o short)\n",
    "    - diccionario vacio dónde guardar los datos\n",
    "\n",
    "    Returns:\n",
    "    - devuelve un diccionario con los datos Genero, Tipo, Nombre de la pelicula, Año estreno, Mes estreno e Id de la película. \n",
    "    \"\"\"\n",
    "     \n",
    "    page = 1\n",
    "    while page <= 50:\n",
    "        querystring = {\"year\": str(año), \"page\": str(page), \"genre\": genero, \"titleType\" : {tipo}, \"limit\": \"50\"}\n",
    "\n",
    "        api_key = os.environ.get('api-key')\n",
    "\n",
    "        headers = {\n",
    "            \"X-RapidAPI-Key\": api_key,\n",
    "            \"X-RapidAPI-Host\": \"moviesdatabase.p.rapidapi.com\"\n",
    "        }\n",
    "\n",
    "        response = requests.get(url, headers=headers, params=querystring)\n",
    "        json_pelis = response.json()\n",
    "\n",
    "        print(f\"{page}. La respuesta ha sido: {response.status_code} - {tipo} - {genero} - {año}\")\n",
    "        \n",
    "        try:\n",
    "            for peli in json_pelis['results']:\n",
    "                if peli[\"titleType\"][\"text\"] == \"Short\" or peli[\"titleType\"][\"text\"] == \"Movie\":\n",
    "                    if peli.get(\"releaseDate\") is not None and peli[\"releaseDate\"].get(\"year\") is not None:\n",
    "                        diccionario[\"Genero\"].append(genero)\n",
    "                        diccionario[\"Tipo\"].append(peli[\"titleType\"][\"text\"])\n",
    "                        diccionario[\"Nombre\"].append(peli[\"originalTitleText\"][\"text\"])\n",
    "                        diccionario[\"Año estreno\"].append(peli[\"releaseDate\"][\"year\"])\n",
    "                           \n",
    "                        try:\n",
    "                            diccionario[\"Mes estreno\"].append(peli[\"releaseDate\"][\"month\"])\n",
    "                        except:\n",
    "                            diccionario[\"Mes estreno\"].append(\"No data\")\n",
    "\n",
    "                        diccionario[\"Id\"].append(peli[\"id\"])\n",
    "\n",
    "        except:\n",
    "            break\n",
    "\n",
    "        page += 1\n",
    "\n",
    "    return diccionario"
   ]
  },
  {
   "cell_type": "code",
   "execution_count": null,
   "metadata": {},
   "outputs": [],
   "source": [
    "#1990 - 1998: Eli\n",
    "#1999 - 2006: Andrea\n",
    "#2007 - 2014: Mael\n",
    "#2015 - 2023: Sara\n",
    "\n",
    "diccionario = {'Genero': [],\n",
    "                'Tipo': [],\n",
    "                'Nombre': [],\n",
    "                'Año estreno': [],\n",
    "                'Mes estreno': [],\n",
    "                'Id': []} \n",
    "\n",
    "# llamamos a la función por cada año para que busque toda la información de ese añó concreto\n",
    "\n",
    "url = \"https://moviesdatabase.p.rapidapi.com/titles\"\n",
    "generos = [\"Drama\", \"Comedy\", \"Action\", \"Fantasy\", \"Horror\", \"Mystery\", \"Romance\", \"Thriller\"]\n",
    "tipos = [\"movie\", \"short\"]\n",
    "for genero in generos:\n",
    "    for tipo in tipos:\n",
    "        diccionario_1990 = sacar_pelis (url, 1990, genero, tipo, diccionario)"
   ]
  },
  {
   "cell_type": "code",
   "execution_count": null,
   "metadata": {},
   "outputs": [],
   "source": [
    "# Pasamos el diccionario a csv para guardar los datos\n",
    "diccionario_1990.to_csv('peliculas_1990.csv')\n"
   ]
  }
 ],
 "metadata": {
  "kernelspec": {
   "display_name": "base",
   "language": "python",
   "name": "python3"
  },
  "language_info": {
   "codemirror_mode": {
    "name": "ipython",
    "version": 3
   },
   "file_extension": ".py",
   "mimetype": "text/x-python",
   "name": "python",
   "nbconvert_exporter": "python",
   "pygments_lexer": "ipython3",
   "version": "3.9.7"
  }
 },
 "nbformat": 4,
 "nbformat_minor": 2
}
